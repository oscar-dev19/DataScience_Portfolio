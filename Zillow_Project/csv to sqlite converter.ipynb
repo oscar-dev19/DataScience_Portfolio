{
 "cells": [
  {
   "cell_type": "markdown",
   "id": "9528d095",
   "metadata": {},
   "source": [
    "# Collecting and Organizing all data.\n",
    "---"
   ]
  },
  {
   "cell_type": "code",
   "execution_count": 1,
   "id": "f03a3c98",
   "metadata": {},
   "outputs": [],
   "source": [
    "import csv_to_sqlite\n",
    "import os"
   ]
  },
  {
   "cell_type": "code",
   "execution_count": 2,
   "id": "e86d2094",
   "metadata": {},
   "outputs": [],
   "source": [
    "ROOT_DIR = 'zillow_data/'\n",
    "all_csvFiles = [ROOT_DIR + f for f in os.listdir(ROOT_DIR)]"
   ]
  },
  {
   "cell_type": "code",
   "execution_count": 3,
   "id": "3dea2ff9",
   "metadata": {},
   "outputs": [
    {
     "data": {
      "text/plain": [
       "['zillow_data/State_MedianRentalPrice_1Bedroom.csv',\n",
       " 'zillow_data/State_Zhvi_3bedroom.csv',\n",
       " 'zillow_data/State_MedianRentalPrice_AllHomes.csv',\n",
       " 'zillow_data/City_Zhvi_2bedroom.csv',\n",
       " 'zillow_data/State_Zhvi_Condominum.csv',\n",
       " 'zillow_data/DaysOnZillow_City.csv',\n",
       " 'zillow_data/.DS_Store',\n",
       " 'zillow_data/City_MedianRentalPrice_Sfr.csv',\n",
       " 'zillow_data/City_MedianRentalPrice_2Bedroom.csv',\n",
       " 'zillow_data/State_MedianRentalPrice_4Bedroom.csv',\n",
       " 'zillow_data/State_Zhvi_1bedroom.csv',\n",
       " 'zillow_data/State_Zhvi_AllHomes.csv',\n",
       " 'zillow_data/State_MedianRentalPrice_3Bedroom.csv',\n",
       " 'zillow_data/Metro_mlp_uc_sfrcondo_month.csv',\n",
       " 'zillow_data/State_Zri_AllHomesPlusMultifamily.csv',\n",
       " 'zillow_data/State_Zhvi_SingleFamilyResidence.csv',\n",
       " 'zillow_data/City_MedianRentalPrice_Studio.csv',\n",
       " 'zillow_data/Metro_sales_count_now_uc_sfrcondo_month.csv',\n",
       " 'zillow_data/State_Zhvi_4bedroom.csv',\n",
       " 'zillow_data/Sale_Prices_State.csv',\n",
       " 'zillow_data/City_Zhvi_5BedroomOrMore.csv',\n",
       " 'zillow_data/Sale_Prices_City.csv',\n",
       " 'zillow_data/City_MedianRentalPrice_3Bedroom.csv',\n",
       " 'zillow_data/City_Zri_AllHomesPlusMultifamily.csv',\n",
       " 'zillow_data/State_Zhvi_2bedroom.csv',\n",
       " 'zillow_data/State_MedianRentalPrice_Sfr.csv',\n",
       " 'zillow_data/State_Zri_SingleFamilyResidenlceRental.csv',\n",
       " 'zillow_data/State_MedianRentalPrice_Studio.csv',\n",
       " 'zillow_data/State_Zhvi_5BedroomOrMore.csv',\n",
       " 'zillow_data/DaysOnZillow_State.csv',\n",
       " 'zillow_data/City_Zhvi_3bedroom.csv',\n",
       " 'zillow_data/City_Zhvi_4bedroom.csv',\n",
       " 'zillow_data/City_MedianRentalPrice_AllHomes.csv',\n",
       " 'zillow_data/State_MedianRentalPrice_5BedroomOrMore.csv',\n",
       " 'zillow_data/City_MedianRentalPrice_5BedroomOrMore.csv',\n",
       " 'zillow_data/City_MedianRentalPrice_1Bedroom.csv',\n",
       " 'zillow_data/Metro_invt_fs_uc_sfrcondo_sm_month.csv',\n",
       " 'zillow_data/State_MedianRentalPrice_2Bedroom.csv',\n",
       " 'zillow_data/City_MedianRentalPrice_4Bedroom.csv',\n",
       " 'zillow_data/City_Zhvi_AllHomes.csv',\n",
       " 'zillow_data/City_Zhvi_Condominum.csv',\n",
       " 'zillow_data/City_Zri_SingleFamilyResidenceRental.csv',\n",
       " 'zillow_data/City_Zhvi_1bedroom.csv']"
      ]
     },
     "execution_count": 3,
     "metadata": {},
     "output_type": "execute_result"
    }
   ],
   "source": [
    "all_csvFiles"
   ]
  },
  {
   "cell_type": "code",
   "execution_count": 4,
   "id": "791dbce0",
   "metadata": {},
   "outputs": [],
   "source": [
    "bedroom_datafiles = [f for f in all_csvFiles if 'bedroom' in f or 'Bedroom' in f]\n"
   ]
  },
  {
   "cell_type": "code",
   "execution_count": 5,
   "id": "a64ea90c",
   "metadata": {},
   "outputs": [
    {
     "data": {
      "text/plain": [
       "['zillow_data/State_MedianRentalPrice_1Bedroom.csv',\n",
       " 'zillow_data/State_Zhvi_3bedroom.csv',\n",
       " 'zillow_data/City_Zhvi_2bedroom.csv',\n",
       " 'zillow_data/City_MedianRentalPrice_2Bedroom.csv',\n",
       " 'zillow_data/State_MedianRentalPrice_4Bedroom.csv',\n",
       " 'zillow_data/State_Zhvi_1bedroom.csv',\n",
       " 'zillow_data/State_MedianRentalPrice_3Bedroom.csv',\n",
       " 'zillow_data/State_Zhvi_4bedroom.csv',\n",
       " 'zillow_data/City_Zhvi_5BedroomOrMore.csv',\n",
       " 'zillow_data/City_MedianRentalPrice_3Bedroom.csv',\n",
       " 'zillow_data/State_Zhvi_2bedroom.csv',\n",
       " 'zillow_data/State_Zhvi_5BedroomOrMore.csv',\n",
       " 'zillow_data/City_Zhvi_3bedroom.csv',\n",
       " 'zillow_data/City_Zhvi_4bedroom.csv',\n",
       " 'zillow_data/State_MedianRentalPrice_5BedroomOrMore.csv',\n",
       " 'zillow_data/City_MedianRentalPrice_5BedroomOrMore.csv',\n",
       " 'zillow_data/City_MedianRentalPrice_1Bedroom.csv',\n",
       " 'zillow_data/State_MedianRentalPrice_2Bedroom.csv',\n",
       " 'zillow_data/City_MedianRentalPrice_4Bedroom.csv',\n",
       " 'zillow_data/City_Zhvi_1bedroom.csv']"
      ]
     },
     "execution_count": 5,
     "metadata": {},
     "output_type": "execute_result"
    }
   ],
   "source": [
    "bedroom_datafiles"
   ]
  },
  {
   "cell_type": "code",
   "execution_count": 6,
   "id": "099a09bc",
   "metadata": {},
   "outputs": [],
   "source": [
    "state_csvFiles = [f for f in all_csvFiles if 'State' in f or 'state' in f]"
   ]
  },
  {
   "cell_type": "code",
   "execution_count": 7,
   "id": "1c2f15c1",
   "metadata": {},
   "outputs": [
    {
     "data": {
      "text/plain": [
       "['zillow_data/State_MedianRentalPrice_1Bedroom.csv',\n",
       " 'zillow_data/State_Zhvi_3bedroom.csv',\n",
       " 'zillow_data/State_MedianRentalPrice_AllHomes.csv',\n",
       " 'zillow_data/State_Zhvi_Condominum.csv',\n",
       " 'zillow_data/State_MedianRentalPrice_4Bedroom.csv',\n",
       " 'zillow_data/State_Zhvi_1bedroom.csv',\n",
       " 'zillow_data/State_Zhvi_AllHomes.csv',\n",
       " 'zillow_data/State_MedianRentalPrice_3Bedroom.csv',\n",
       " 'zillow_data/State_Zri_AllHomesPlusMultifamily.csv',\n",
       " 'zillow_data/State_Zhvi_SingleFamilyResidence.csv',\n",
       " 'zillow_data/State_Zhvi_4bedroom.csv',\n",
       " 'zillow_data/Sale_Prices_State.csv',\n",
       " 'zillow_data/State_Zhvi_2bedroom.csv',\n",
       " 'zillow_data/State_MedianRentalPrice_Sfr.csv',\n",
       " 'zillow_data/State_Zri_SingleFamilyResidenlceRental.csv',\n",
       " 'zillow_data/State_MedianRentalPrice_Studio.csv',\n",
       " 'zillow_data/State_Zhvi_5BedroomOrMore.csv',\n",
       " 'zillow_data/DaysOnZillow_State.csv',\n",
       " 'zillow_data/State_MedianRentalPrice_5BedroomOrMore.csv',\n",
       " 'zillow_data/State_MedianRentalPrice_2Bedroom.csv']"
      ]
     },
     "execution_count": 7,
     "metadata": {},
     "output_type": "execute_result"
    }
   ],
   "source": [
    "state_csvFiles"
   ]
  },
  {
   "cell_type": "code",
   "execution_count": 8,
   "id": "38d69b2d",
   "metadata": {},
   "outputs": [],
   "source": [
    "mrp_csvFiles = [f for f in all_csvFiles if 'MedianRentalPrice' in f]"
   ]
  },
  {
   "cell_type": "code",
   "execution_count": 9,
   "id": "1a6c48fd",
   "metadata": {},
   "outputs": [
    {
     "data": {
      "text/plain": [
       "['zillow_data/State_MedianRentalPrice_1Bedroom.csv',\n",
       " 'zillow_data/State_MedianRentalPrice_AllHomes.csv',\n",
       " 'zillow_data/City_MedianRentalPrice_Sfr.csv',\n",
       " 'zillow_data/City_MedianRentalPrice_2Bedroom.csv',\n",
       " 'zillow_data/State_MedianRentalPrice_4Bedroom.csv',\n",
       " 'zillow_data/State_MedianRentalPrice_3Bedroom.csv',\n",
       " 'zillow_data/City_MedianRentalPrice_Studio.csv',\n",
       " 'zillow_data/City_MedianRentalPrice_3Bedroom.csv',\n",
       " 'zillow_data/State_MedianRentalPrice_Sfr.csv',\n",
       " 'zillow_data/State_MedianRentalPrice_Studio.csv',\n",
       " 'zillow_data/City_MedianRentalPrice_AllHomes.csv',\n",
       " 'zillow_data/State_MedianRentalPrice_5BedroomOrMore.csv',\n",
       " 'zillow_data/City_MedianRentalPrice_5BedroomOrMore.csv',\n",
       " 'zillow_data/City_MedianRentalPrice_1Bedroom.csv',\n",
       " 'zillow_data/State_MedianRentalPrice_2Bedroom.csv',\n",
       " 'zillow_data/City_MedianRentalPrice_4Bedroom.csv']"
      ]
     },
     "execution_count": 9,
     "metadata": {},
     "output_type": "execute_result"
    }
   ],
   "source": [
    "mrp_csvFiles"
   ]
  },
  {
   "cell_type": "code",
   "execution_count": 10,
   "id": "7383b17a",
   "metadata": {},
   "outputs": [],
   "source": [
    "zhvi_csvFiles = [f for f in all_csvFiles if 'Zhvi' in f]"
   ]
  },
  {
   "cell_type": "code",
   "execution_count": 11,
   "id": "b36186f8",
   "metadata": {},
   "outputs": [
    {
     "data": {
      "text/plain": [
       "['zillow_data/State_Zhvi_3bedroom.csv',\n",
       " 'zillow_data/City_Zhvi_2bedroom.csv',\n",
       " 'zillow_data/State_Zhvi_Condominum.csv',\n",
       " 'zillow_data/State_Zhvi_1bedroom.csv',\n",
       " 'zillow_data/State_Zhvi_AllHomes.csv',\n",
       " 'zillow_data/State_Zhvi_SingleFamilyResidence.csv',\n",
       " 'zillow_data/State_Zhvi_4bedroom.csv',\n",
       " 'zillow_data/City_Zhvi_5BedroomOrMore.csv',\n",
       " 'zillow_data/State_Zhvi_2bedroom.csv',\n",
       " 'zillow_data/State_Zhvi_5BedroomOrMore.csv',\n",
       " 'zillow_data/City_Zhvi_3bedroom.csv',\n",
       " 'zillow_data/City_Zhvi_4bedroom.csv',\n",
       " 'zillow_data/City_Zhvi_AllHomes.csv',\n",
       " 'zillow_data/City_Zhvi_Condominum.csv',\n",
       " 'zillow_data/City_Zhvi_1bedroom.csv']"
      ]
     },
     "execution_count": 11,
     "metadata": {},
     "output_type": "execute_result"
    }
   ],
   "source": [
    "zhvi_csvFiles"
   ]
  },
  {
   "cell_type": "markdown",
   "id": "820b4842",
   "metadata": {},
   "source": [
    "# Converting data to sqlite\n",
    "---"
   ]
  },
  {
   "cell_type": "code",
   "execution_count": 12,
   "id": "66beaae5",
   "metadata": {},
   "outputs": [
    {
     "name": "stdout",
     "output_type": "stream",
     "text": [
      "Error on table zillow_data/State_MedianRentalPrice_1Bedroom.csv: \n",
      " table [State_MedianRentalPrice_1Bedroom] already exists\n",
      "Error on table zillow_data/State_Zhvi_3bedroom.csv: \n",
      " table [State_Zhvi_3bedroom] already exists\n",
      "Error on table zillow_data/City_Zhvi_2bedroom.csv: \n",
      " 'charmap' codec can't decode byte 0x83 in position 7286: character maps to <undefined>\n",
      "Error on table zillow_data/City_MedianRentalPrice_2Bedroom.csv: \n",
      " table [City_MedianRentalPrice_2Bedroom] already exists\n",
      "Error on table zillow_data/State_MedianRentalPrice_4Bedroom.csv: \n",
      " table [State_MedianRentalPrice_4Bedroom] already exists\n",
      "Error on table zillow_data/State_Zhvi_1bedroom.csv: \n",
      " table [State_Zhvi_1bedroom] already exists\n",
      "Error on table zillow_data/State_MedianRentalPrice_3Bedroom.csv: \n",
      " table [State_MedianRentalPrice_3Bedroom] already exists\n",
      "Error on table zillow_data/State_Zhvi_4bedroom.csv: \n",
      " table [State_Zhvi_4bedroom] already exists\n",
      "Error on table zillow_data/City_Zhvi_5BedroomOrMore.csv: \n",
      " 'charmap' codec can't decode byte 0x83 in position 4226: character maps to <undefined>\n",
      "Error on table zillow_data/City_MedianRentalPrice_3Bedroom.csv: \n",
      " table [City_MedianRentalPrice_3Bedroom] already exists\n",
      "Error on table zillow_data/State_Zhvi_2bedroom.csv: \n",
      " table [State_Zhvi_2bedroom] already exists\n",
      "Error on table zillow_data/State_Zhvi_5BedroomOrMore.csv: \n",
      " table [State_Zhvi_5BedroomOrMore] already exists\n",
      "Error on table zillow_data/City_Zhvi_3bedroom.csv: \n",
      " 'charmap' codec can't decode byte 0x83 in position 2098: character maps to <undefined>\n",
      "Error on table zillow_data/City_Zhvi_4bedroom.csv: \n",
      " 'charmap' codec can't decode byte 0x83 in position 736: character maps to <undefined>\n",
      "Error on table zillow_data/State_MedianRentalPrice_5BedroomOrMore.csv: \n",
      " table [State_MedianRentalPrice_5BedroomOrMore] already exists\n",
      "Error on table zillow_data/City_MedianRentalPrice_5BedroomOrMore.csv: \n",
      " table [City_MedianRentalPrice_5BedroomOrMore] already exists\n",
      "Error on table zillow_data/City_MedianRentalPrice_1Bedroom.csv: \n",
      " table [City_MedianRentalPrice_1Bedroom] already exists\n",
      "Error on table zillow_data/State_MedianRentalPrice_2Bedroom.csv: \n",
      " table [State_MedianRentalPrice_2Bedroom] already exists\n",
      "Error on table zillow_data/City_MedianRentalPrice_4Bedroom.csv: \n",
      " table [City_MedianRentalPrice_4Bedroom] already exists\n",
      "Error on table zillow_data/City_Zhvi_1bedroom.csv: \n",
      " 'charmap' codec can't decode byte 0x83 in position 4424: character maps to <undefined>\n",
      "Written 0 rows into 20 tables in 1.542 seconds\n"
     ]
    },
    {
     "data": {
      "text/plain": [
       "0"
      ]
     },
     "execution_count": 12,
     "metadata": {},
     "output_type": "execute_result"
    }
   ],
   "source": [
    "options = csv_to_sqlite.CsvOptions(typing_style=\"full\", encoding=\"windows-1250\")\n",
    "input_files = bedroom_datafiles\n",
    "csv_to_sqlite.write_csv(input_files,\"bedroom.sqlite\",options)"
   ]
  },
  {
   "cell_type": "code",
   "execution_count": 1,
   "id": "13d715b4",
   "metadata": {},
   "outputs": [
    {
     "ename": "ModuleNotFoundError",
     "evalue": "No module named 'sklearn'",
     "output_type": "error",
     "traceback": [
      "\u001b[0;31m---------------------------------------------------------------------------\u001b[0m",
      "\u001b[0;31mModuleNotFoundError\u001b[0m                       Traceback (most recent call last)",
      "\u001b[0;32m/var/folders/c3/8q0nlsb90szgzk7243xyrqk00000gn/T/ipykernel_27264/2177609252.py\u001b[0m in \u001b[0;36m<module>\u001b[0;34m\u001b[0m\n\u001b[0;32m----> 1\u001b[0;31m \u001b[0;32mfrom\u001b[0m \u001b[0msklearn\u001b[0m\u001b[0;34m.\u001b[0m\u001b[0mimputer\u001b[0m \u001b[0;32mimport\u001b[0m \u001b[0mSimpleImputer\u001b[0m\u001b[0;34m\u001b[0m\u001b[0;34m\u001b[0m\u001b[0m\n\u001b[0m",
      "\u001b[0;31mModuleNotFoundError\u001b[0m: No module named 'sklearn'"
     ]
    }
   ],
   "source": [
    "from sklearn.imputer import SimpleImputer"
   ]
  },
  {
   "cell_type": "code",
   "execution_count": null,
   "id": "303fb3fa",
   "metadata": {},
   "outputs": [],
   "source": []
  }
 ],
 "metadata": {
  "interpreter": {
   "hash": "e48cc05536ee489c821dd45c5b43240a57126b9799e84e2e38f385de2ff32635"
  },
  "kernelspec": {
   "display_name": "Python 3 (ipykernel)",
   "language": "python",
   "name": "python3"
  },
  "language_info": {
   "codemirror_mode": {
    "name": "ipython",
    "version": 3
   },
   "file_extension": ".py",
   "mimetype": "text/x-python",
   "name": "python",
   "nbconvert_exporter": "python",
   "pygments_lexer": "ipython3",
   "version": "3.9.9"
  }
 },
 "nbformat": 4,
 "nbformat_minor": 5
}
